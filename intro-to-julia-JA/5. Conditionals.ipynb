{
 "cells": [
  {
   "cell_type": "markdown",
   "metadata": {
    "collapsed": true
   },
   "source": [
    "# 条件分岐\n",
    "\n",
    "#### `if` 文の利用\n",
    "Julia においてのシンタックス\n",
    "\n",
    "```julia\n",
    "if *condition 1*\n",
    "    *option 1*\n",
    "elseif *condition 2*\n",
    "    *option 2*\n",
    "else\n",
    "    *option 3*\n",
    "end\n",
    "```\n",
    "\n",
    "オプションの中で条件を評価することもできる.\n",
    "<br><br>\n",
    "例えば, FixxBuzz を実装しよう: 与えられる数値 N について, 3 で割りきれる場合は \"Fizz\" と出力し, 5 で割り切れる場合は \"Buzz\" と出力し, 3 と 5 の両方で割り切れるときは \"FizzBuzz\" と表示する. それ以外の場合は, N それ自身を出力する."
   ]
  },
  {
   "cell_type": "code",
   "execution_count": null,
   "metadata": {
    "collapsed": true
   },
   "outputs": [],
   "source": [
    "N = "
   ]
  },
  {
   "cell_type": "code",
   "execution_count": null,
   "metadata": {
    "collapsed": true
   },
   "outputs": [],
   "source": [
    "if (N % 3 == 0) & (N % 5 == 0)\n",
    "    println(\"FizzBuzz\")\n",
    "elseif N % 3 == 0\n",
    "    println(\"Fizz\")\n",
    "elseif N % 5 == 0\n",
    "    println(\"Buzz\")\n",
    "else\n",
    "    println(N)\n",
    "end"
   ]
  },
  {
   "cell_type": "markdown",
   "metadata": {},
   "source": [
    "２つの数のうち大きい数を返す処理を行いたい. x, y を自由に決めてほしい."
   ]
  },
  {
   "cell_type": "code",
   "execution_count": null,
   "metadata": {
    "collapsed": true
   },
   "outputs": [],
   "source": [
    "x = \n",
    "y = "
   ]
  },
  {
   "cell_type": "code",
   "execution_count": null,
   "metadata": {
    "collapsed": true
   },
   "outputs": [],
   "source": [
    "if x > y\n",
    "    x\n",
    "else\n",
    "    y\n",
    "end"
   ]
  },
  {
   "cell_type": "markdown",
   "metadata": {},
   "source": [
    "#### 三項演算子\n",
    "\n",
    "三項演算子のシンタックス:\n",
    "\n",
    "```julia\n",
    "a ? b : c\n",
    "```\n",
    "\n",
    "これは以下と同じ評価である. \n",
    "\n",
    "```julia\n",
    "if a\n",
    "    b\n",
    "else\n",
    "    c\n",
    "end\n",
    "```"
   ]
  },
  {
   "cell_type": "code",
   "execution_count": null,
   "metadata": {
    "collapsed": true
   },
   "outputs": [],
   "source": [
    "(x > y) ? x : y"
   ]
  },
  {
   "cell_type": "markdown",
   "metadata": {},
   "source": [
    "#### 短絡評価\n",
    "\n",
    "すでに構文内で下記のシンタックスをみてきた.\n",
    "\n",
    "```julia\n",
    "a & b\n",
    "```\n",
    "\n",
    "二つの式あるいは値 `a`, `b` について, Julia は, この表記法を以下のように評価する.\n",
    "\n",
    "```julia\n",
    "false & (println(\"hi\"); true)\n",
    "```\n",
    "\n",
    "`false` を返す前に, \"hi\" を標準出力へ出力する.\n",
    "一方で, 以下のように `&` 演算子を, `&&` に置き換えることで,\n",
    "\n",
    "```julia\n",
    "a && b\n",
    "```\n",
    "短絡評価が可能となる. `b` は `a` が `true` の場合に評価される. これは, `b` の評価が高コストなるときに助けとなる.\n",
    "例えば,\n",
    "\n",
    "```julia\n",
    "false && (println(\"hi\"); true)\n",
    "```\n",
    "\n",
    "\"hi\" を出力することなく, `false` を返す.\n",
    "\n",
    "*** これはつまり ***\n",
    "\n",
    "```julia\n",
    "a && b\n",
    "``` \n",
    "\n",
    "*** `a` が `true` であれば `b` の条件式を評価する！ ***"
   ]
  },
  {
   "cell_type": "code",
   "execution_count": null,
   "metadata": {
    "collapsed": true
   },
   "outputs": [],
   "source": [
    "(x > y) && println(x)"
   ]
  },
  {
   "cell_type": "code",
   "execution_count": null,
   "metadata": {
    "collapsed": true
   },
   "outputs": [],
   "source": [
    "(x < y) && println(y)"
   ]
  },
  {
   "cell_type": "markdown",
   "metadata": {},
   "source": [
    "よく似ている例として, 以下の例の違いを確認すること."
   ]
  },
  {
   "cell_type": "code",
   "execution_count": null,
   "metadata": {},
   "outputs": [],
   "source": [
    "true | (println(\"hi\"); true)"
   ]
  },
  {
   "cell_type": "markdown",
   "metadata": {},
   "source": [
    "上記と, 下記,"
   ]
  },
  {
   "cell_type": "code",
   "execution_count": null,
   "metadata": {},
   "outputs": [],
   "source": [
    "true || (println(\"hi\"); true)"
   ]
  },
  {
   "cell_type": "markdown",
   "metadata": {},
   "source": [
    "`|` は `or` を意味する."
   ]
  },
  {
   "cell_type": "markdown",
   "metadata": {
    "collapsed": true
   },
   "source": [
    "### 演習\n",
    "\n",
    "#### 5.1 \n",
    "渡された数値が 偶数(even) であれば, 数値のまま出力し, 奇数(odd) であれば, \"odd\" と string を出力する,条件式を書いてください."
   ]
  },
  {
   "cell_type": "code",
   "execution_count": null,
   "metadata": {
    "collapsed": true
   },
   "outputs": [],
   "source": []
  },
  {
   "cell_type": "markdown",
   "metadata": {},
   "source": [
    "#### 5.2 \n",
    "5.1 のコードを三項演算子を用いて, 書き直してください."
   ]
  },
  {
   "cell_type": "code",
   "execution_count": null,
   "metadata": {
    "collapsed": true
   },
   "outputs": [],
   "source": []
  }
 ],
 "metadata": {
  "kernelspec": {
   "display_name": "Julia 0.6.2",
   "language": "julia",
   "name": "julia-0.6"
  },
  "language_info": {
   "file_extension": ".jl",
   "mimetype": "application/julia",
   "name": "julia",
   "version": "0.6.2"
  }
 },
 "nbformat": 4,
 "nbformat_minor": 2
}
