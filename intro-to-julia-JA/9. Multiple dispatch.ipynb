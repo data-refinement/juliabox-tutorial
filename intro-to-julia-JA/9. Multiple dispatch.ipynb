{
 "cells": [
  {
   "cell_type": "markdown",
   "metadata": {},
   "source": [
    "# 多重ディスパッチ"
   ]
  },
  {
   "cell_type": "markdown",
   "metadata": {},
   "source": [
    "このノートブックでは, Julia の鍵となる特徴の **多重ディスパッチ** を扱う.\n",
    "\n",
    "多重ディスパッチは, ソフトウェアを *ジェネリック*, *高速* にする.\n",
    "\n",
    "#### 使い慣れたものから始める\n",
    "\n",
    "Julia における多重ディスパッチを理解するために, 今まで行ったことを振り返るところから始めよう.\n",
    "\n",
    "Julia は, 関数が受け取る入力引数の型に関する情報を, Julia に与えずに、関数を宣言できる:"
   ]
  },
  {
   "cell_type": "code",
   "execution_count": null,
   "metadata": {
    "collapsed": true
   },
   "outputs": [],
   "source": [
    "f(x) = x^2"
   ]
  },
  {
   "cell_type": "markdown",
   "metadata": {},
   "source": [
    "Julia は, どの入力引数の型が, 意味を成しているのかどうかを判断する."
   ]
  },
  {
   "cell_type": "code",
   "execution_count": null,
   "metadata": {
    "collapsed": true
   },
   "outputs": [],
   "source": [
    "f(10)"
   ]
  },
  {
   "cell_type": "code",
   "execution_count": null,
   "metadata": {
    "collapsed": true
   },
   "outputs": [],
   "source": [
    "f([1, 2, 3])"
   ]
  },
  {
   "cell_type": "markdown",
   "metadata": {},
   "source": [
    "#### 入力引数から, 型推定する\n",
    "\n",
    "しかしながら, 入力引数にどのような型が許されているか, 明示的に, Julia へ伝えるために *option* も持つ\n",
    "\n",
    "例として, string 型のみを入力引数に取る関数 `foo` を宣言してみよう. "
   ]
  },
  {
   "cell_type": "code",
   "execution_count": 1,
   "metadata": {},
   "outputs": [
    {
     "data": {
      "text/plain": [
       "foo (generic function with 1 method)"
      ]
     },
     "execution_count": 1,
     "metadata": {},
     "output_type": "execute_result"
    }
   ],
   "source": [
    "foo(x::String, y::String) = println(\"My inputs x and y are both strings!\")"
   ]
  },
  {
   "cell_type": "markdown",
   "metadata": {},
   "source": [
    "`x` と `y` の型を, `String` 型に限定するために, 入力引数名に続けて, コロン二つ `::` と `String` を指定するだけである.\n",
    "\n",
    "関数 `foo` が, `String` 型で動き, 他の入力引数の型では動かないことを示す."
   ]
  },
  {
   "cell_type": "code",
   "execution_count": 2,
   "metadata": {},
   "outputs": [
    {
     "name": "stdout",
     "output_type": "stream",
     "text": [
      "My inputs x and y are both strings!\n"
     ]
    }
   ],
   "source": [
    "foo(\"hello\", \"hi!\")"
   ]
  },
  {
   "cell_type": "code",
   "execution_count": 3,
   "metadata": {},
   "outputs": [
    {
     "ename": "LoadError",
     "evalue": "\u001b[91mMethodError: no method matching foo(::Int64, ::Int64)\u001b[39m",
     "output_type": "error",
     "traceback": [
      "\u001b[91mMethodError: no method matching foo(::Int64, ::Int64)\u001b[39m",
      "",
      "Stacktrace:",
      " [1] \u001b[1minclude_string\u001b[22m\u001b[22m\u001b[1m(\u001b[22m\u001b[22m::String, ::String\u001b[1m)\u001b[22m\u001b[22m at \u001b[1m./loading.jl:522\u001b[22m\u001b[22m"
     ]
    }
   ],
   "source": [
    "foo(3, 4)"
   ]
  },
  {
   "cell_type": "markdown",
   "metadata": {},
   "source": [
    "関数 `foo` が integer (`Int`) 型の入力で作動する様にするために, 関数 `foo` を宣言するときに入力引数へ, `::Int` を指定しよう."
   ]
  },
  {
   "cell_type": "code",
   "execution_count": 4,
   "metadata": {},
   "outputs": [
    {
     "data": {
      "text/plain": [
       "foo (generic function with 2 methods)"
      ]
     },
     "execution_count": 4,
     "metadata": {},
     "output_type": "execute_result"
    }
   ],
   "source": [
    "foo(x::Int, y::Int) = println(\"My inputs x and y are both integers!\")"
   ]
  },
  {
   "cell_type": "code",
   "execution_count": 5,
   "metadata": {},
   "outputs": [
    {
     "name": "stdout",
     "output_type": "stream",
     "text": [
      "My inputs x and y are both integers!\n"
     ]
    }
   ],
   "source": [
    "foo(3, 4)"
   ]
  },
  {
   "cell_type": "markdown",
   "metadata": {},
   "source": [
    "関数 `foo` は, integer 型において作動した. しかし, 関数 `foo` は, `x` と `y` が string 型の時も依然として作動する."
   ]
  },
  {
   "cell_type": "code",
   "execution_count": 6,
   "metadata": {},
   "outputs": [
    {
     "name": "stdout",
     "output_type": "stream",
     "text": [
      "My inputs x and y are both strings!\n"
     ]
    }
   ],
   "source": [
    "foo(\"hello\", \"hi!\")"
   ]
  },
  {
   "cell_type": "markdown",
   "metadata": {},
   "source": [
    "これが, 多重ディスパッチの核心に至る始まりである. 以下のように宣言した際,\n",
    "\n",
    "```julia\n",
    "foo(x::Int, y::Int) = println(\"My inputs x and y are both integers!\")\n",
    "```\n",
    "\n",
    "上書きや置き換えを行っていない.\n",
    "\n",
    "```julia\n",
    "foo(y::String, y::String)\n",
    "```\n",
    "\n",
    "代わりに, 関数 `foo` によってよばれる***generic 関数***へ, 追加の ***メソッド*** を加えたのみである. \n",
    "\n",
    "***generic 関数*** は, 特定の操作に関連付けられた抽象概念である.\n",
    "\n",
    "例えば, generic 関数 `+` は, 加算のコンセプトを象徴する.\n",
    "\n",
    "***メソッド*** は, *特定の引数型* のための generic 関数の明確な実装である.\n",
    "\n",
    "例えば, `+` は, 浮動小数点, integer, 行列などを受け入れるメソッドを持つ.\n",
    "\n",
    "関数 `methods()` を用いることで, 例えば, 関数 `foo` がどれほどのメソッドを持っているか確認することができる."
   ]
  },
  {
   "cell_type": "code",
   "execution_count": null,
   "metadata": {},
   "outputs": [],
   "source": [
    "methods(foo)"
   ]
  },
  {
   "cell_type": "markdown",
   "metadata": {},
   "source": [
    "そのため, integer や string に対して関数 `foo` をよぶことができた. 引数の特定の集合において関数 `foo` をよぶとき, Julia は, 入力の型を推定し, 適切なメソッドを, ディスパッチする. *これ*が, 多重ディスパッチ.\n",
    "\n",
    "多重ディスパッチは, コードを generic にそして速くする. 多重ディスパッチを活用した, コードは generic かつ 柔軟である. なぜなら, 具体的な実装ではなく, 加算や乗算などの抽象的な操作の観点からコードを記述することができるためである.\n",
    "\n",
    "同時に, 素早くコードが実行される, Julia は, 関連する型に対して効率的なメソッドを呼び出すことができるから.\n",
    "\n",
    "generic 関数を呼び出したときに, どのメソッドがディスパッチされたのか知るために, `@which` マクロを利用できる:"
   ]
  },
  {
   "cell_type": "code",
   "execution_count": null,
   "metadata": {},
   "outputs": [],
   "source": [
    "@which foo(3, 4)"
   ]
  },
  {
   "cell_type": "markdown",
   "metadata": {},
   "source": [
    "そして, generic 関数 `foo` へさらに他のメソッドを追加することができる.\n",
    "サブタイプとして, `Int`, `Float64`, そして, 数に関わると想定されるその他のオブジェクトすべてを, ***抽象型*** `Number` へと, とるメソッドを追加する."
   ]
  },
  {
   "cell_type": "code",
   "execution_count": null,
   "metadata": {
    "collapsed": true
   },
   "outputs": [],
   "source": [
    "foo(x::Number, y::Number) = println(\"My inputs x and y are both numbers!\")"
   ]
  },
  {
   "cell_type": "markdown",
   "metadata": {},
   "source": [
    "関数 `foo` へのこのメソッドは, 機能する. 例えば, 浮動小数点数に対して:"
   ]
  },
  {
   "cell_type": "code",
   "execution_count": null,
   "metadata": {
    "collapsed": true
   },
   "outputs": [],
   "source": [
    "foo(3.0, 4.0)"
   ]
  },
  {
   "cell_type": "markdown",
   "metadata": {},
   "source": [
    "さらに, 関数 `foo` への全ての型を入力として受け取れる, ダックタイプドメソッドにたいして, フォールバックを追加することもできる."
   ]
  },
  {
   "cell_type": "code",
   "execution_count": 2,
   "metadata": {},
   "outputs": [
    {
     "data": {
      "text/plain": [
       "foo (generic function with 1 method)"
      ]
     },
     "execution_count": 2,
     "metadata": {},
     "output_type": "execute_result"
    }
   ],
   "source": [
    "foo(x, y) = println(\"I accept inputs of any type!\")"
   ]
  },
  {
   "cell_type": "markdown",
   "metadata": {},
   "source": [
    "これまで, `foo` のために書いてきたメソッドを考慮すると, このメソッドは、非数を `foo` に渡すたびに呼び出される:"
   ]
  },
  {
   "cell_type": "code",
   "execution_count": 3,
   "metadata": {},
   "outputs": [
    {
     "name": "stdout",
     "output_type": "stream",
     "text": [
      "I accept inputs of any type!\n"
     ]
    }
   ],
   "source": [
    "foo(true, true)"
   ]
  },
  {
   "cell_type": "markdown",
   "metadata": {
    "collapsed": true
   },
   "source": [
    "### 演習\n",
    "\n",
    "#### 9.1\n",
    "\n",
    "関数 `foo` を拡張します, ひとつのみ, `Bool` 型を入力引数として受け取り, \"foo with one boolean!\" と出力するメソッドを追加してください."
   ]
  },
  {
   "cell_type": "code",
   "execution_count": null,
   "metadata": {
    "collapsed": true
   },
   "outputs": [],
   "source": []
  },
  {
   "cell_type": "markdown",
   "metadata": {},
   "source": [
    "#### 9.2\n",
    "\n",
    "上記で書いたメソッドが, 実行時にディスパッチされていることを確認してください\n",
    "\n",
    "```julia\n",
    "foo(true)\n",
    "```\n"
   ]
  },
  {
   "cell_type": "code",
   "execution_count": null,
   "metadata": {
    "collapsed": true
   },
   "outputs": [],
   "source": []
  }
 ],
 "metadata": {
  "anaconda-cloud": {},
  "kernelspec": {
   "display_name": "Julia 0.6.2",
   "language": "julia",
   "name": "julia-0.6"
  },
  "language": "Julia",
  "language_info": {
   "file_extension": ".jl",
   "mimetype": "application/julia",
   "name": "julia",
   "version": "0.6.2"
  },
  "toc": {
   "nav_menu": {
    "height": "119px",
    "width": "251px"
   },
   "navigate_menu": true,
   "number_sections": true,
   "sideBar": true,
   "threshold": "2",
   "toc_cell": false,
   "toc_section_display": "block",
   "toc_window_display": false
  }
 },
 "nbformat": 4,
 "nbformat_minor": 1
}
