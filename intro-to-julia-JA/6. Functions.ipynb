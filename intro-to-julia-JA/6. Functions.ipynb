{
 "cells": [
  {
   "cell_type": "markdown",
   "metadata": {},
   "source": [
    "# 関数\n",
    "\n",
    "トピックス:\n",
    "1. どのように関数を宣言するか\n",
    "2. Julia においてのダックタイピング\n",
    "3. mutating 関数 vs. non-mutating 関数\n",
    "4. いくつかの高階関数"
   ]
  },
  {
   "cell_type": "markdown",
   "metadata": {},
   "source": [
    "## どのように関数を宣言するか\n",
    "\n",
    "Julia は, 関数を書くためのいくつかの方法を用意している.\n",
    "最初は, `function`, `end` キーワードで閉じる方法から."
   ]
  },
  {
   "cell_type": "code",
   "execution_count": null,
   "metadata": {},
   "outputs": [],
   "source": [
    "function sayhi(name)\n",
    "    println(\"Hi $name, it's great to see you!\")\n",
    "end"
   ]
  },
  {
   "cell_type": "code",
   "execution_count": null,
   "metadata": {},
   "outputs": [],
   "source": [
    "function f(x)\n",
    "    x^2\n",
    "end"
   ]
  },
  {
   "cell_type": "markdown",
   "metadata": {},
   "source": [
    "これらの宣言された関数を呼び出す方法は下記:"
   ]
  },
  {
   "cell_type": "code",
   "execution_count": null,
   "metadata": {},
   "outputs": [],
   "source": [
    "sayhi(\"C-3PO\")"
   ]
  },
  {
   "cell_type": "code",
   "execution_count": null,
   "metadata": {},
   "outputs": [],
   "source": [
    "f(42)"
   ]
  },
  {
   "cell_type": "markdown",
   "metadata": {},
   "source": [
    "あるいは, １行でこれらの関数を宣言することができる."
   ]
  },
  {
   "cell_type": "code",
   "execution_count": null,
   "metadata": {},
   "outputs": [],
   "source": [
    "sayhi2(name) = println(\"Hi $name, it's great to see you!\")"
   ]
  },
  {
   "cell_type": "code",
   "execution_count": null,
   "metadata": {},
   "outputs": [],
   "source": [
    "f2(x) = x^2"
   ]
  },
  {
   "cell_type": "code",
   "execution_count": null,
   "metadata": {},
   "outputs": [],
   "source": [
    "sayhi2(\"R2D2\")"
   ]
  },
  {
   "cell_type": "code",
   "execution_count": null,
   "metadata": {},
   "outputs": [],
   "source": [
    "f2(42)"
   ]
  },
  {
   "cell_type": "markdown",
   "metadata": {},
   "source": [
    "最後に, \"無名\" 関数として宣言することができる."
   ]
  },
  {
   "cell_type": "code",
   "execution_count": null,
   "metadata": {},
   "outputs": [],
   "source": [
    "sayhi3 = name -> println(\"Hi $name, it's great to see you!\")"
   ]
  },
  {
   "cell_type": "code",
   "execution_count": null,
   "metadata": {},
   "outputs": [],
   "source": [
    "f3 = x -> x^2"
   ]
  },
  {
   "cell_type": "code",
   "execution_count": null,
   "metadata": {},
   "outputs": [],
   "source": [
    "sayhi3(\"Chewbacca\")"
   ]
  },
  {
   "cell_type": "code",
   "execution_count": null,
   "metadata": {},
   "outputs": [],
   "source": [
    "f3(42)"
   ]
  },
  {
   "cell_type": "markdown",
   "metadata": {},
   "source": [
    "## Julia においてのダックタイピング\n",
    "\n",
    "*\"もしもそれがアヒルのように鳴くのなら、それはアヒルである.\"* <br><br>\n",
    "Julia の関数は, 入力が意味をなすものなら何でも, 機能する.<br><br>\n",
    "例えば, `sayhi` は, integer で書かれたマイナーなTVキャラクターの名前でも機能する..."
   ]
  },
  {
   "cell_type": "code",
   "execution_count": null,
   "metadata": {},
   "outputs": [],
   "source": [
    "sayhi(55595472)"
   ]
  },
  {
   "cell_type": "markdown",
   "metadata": {},
   "source": [
    "また, `f` 関数は, 行列に対しても機能する."
   ]
  },
  {
   "cell_type": "code",
   "execution_count": null,
   "metadata": {},
   "outputs": [],
   "source": [
    "A = rand(3, 3)\n",
    "A"
   ]
  },
  {
   "cell_type": "code",
   "execution_count": null,
   "metadata": {},
   "outputs": [],
   "source": [
    "f(A)"
   ]
  },
  {
   "cell_type": "markdown",
   "metadata": {},
   "source": [
    "`f` 関数は, \"hi\" のような string の入力にも機能する. なぜなら, string の入力において, `*` 演算子は, string の連結として, 定義されているからである."
   ]
  },
  {
   "cell_type": "code",
   "execution_count": null,
   "metadata": {},
   "outputs": [],
   "source": [
    "f(\"hi\")"
   ]
  },
  {
   "cell_type": "markdown",
   "metadata": {},
   "source": [
    "一方で, `f` 関数は, ベクターに対しては機能しない. 明確に定義された `A^2` と違い, ベクターに対しての `v^2` の意味づけは, `v` が曖昧である."
   ]
  },
  {
   "cell_type": "code",
   "execution_count": null,
   "metadata": {},
   "outputs": [],
   "source": [
    "v = rand(3)"
   ]
  },
  {
   "cell_type": "code",
   "execution_count": null,
   "metadata": {},
   "outputs": [],
   "source": [
    "f(v)"
   ]
  },
  {
   "cell_type": "markdown",
   "metadata": {
    "collapsed": true
   },
   "source": [
    "## Mutating 関数 vs. non-mutating 関数\n",
    "\n",
    "慣例により, エクスクラメーションマーク `!` が末尾についている関数は引数を破壊的に変更し, `!` がついていない関数は破壊的変更をしません.\n",
    "\n",
    "例として, `sort` と, `sort!` の違いを見てみる."
   ]
  },
  {
   "cell_type": "code",
   "execution_count": null,
   "metadata": {},
   "outputs": [],
   "source": [
    "v = [3, 5, 2]"
   ]
  },
  {
   "cell_type": "code",
   "execution_count": null,
   "metadata": {},
   "outputs": [],
   "source": [
    "sort(v)"
   ]
  },
  {
   "cell_type": "code",
   "execution_count": null,
   "metadata": {},
   "outputs": [],
   "source": [
    "v"
   ]
  },
  {
   "cell_type": "markdown",
   "metadata": {},
   "source": [
    "`sort(v)` は, `v` と同じ要素の, ソートされた配列を返すが, `v` の内容は変更されていない.<br><br>\n",
    "\n",
    "一方で, `sort!(v)` を実行した場合は, 配列 `v` の要素は, ソートされています."
   ]
  },
  {
   "cell_type": "code",
   "execution_count": null,
   "metadata": {},
   "outputs": [],
   "source": [
    "sort!(v)"
   ]
  },
  {
   "cell_type": "code",
   "execution_count": null,
   "metadata": {},
   "outputs": [],
   "source": [
    "v"
   ]
  },
  {
   "cell_type": "markdown",
   "metadata": {},
   "source": [
    "## いくつかの高階関数\n",
    "\n",
    "### map\n",
    "\n",
    "`map` は Julia において \"高階\"関数であり, 入力引数の一つに *関数をとる*.\n",
    "`map` は, 同時に引数として渡されたデータ構造の全ての要素に, 与えられた関数を適用する.\n",
    "例えば, 下記を実行すると\n",
    "\n",
    "```julia\n",
    "map(f, [1, 2, 3])\n",
    "```\n",
    "\n",
    "関数 `f` が各要素 `[1, 2, 3]` に適用された配列が出力される.\n",
    "\n",
    "```julia\n",
    "[f(1), f(2), f(3)]\n",
    "```"
   ]
  },
  {
   "cell_type": "code",
   "execution_count": null,
   "metadata": {},
   "outputs": [],
   "source": [
    "map(f, [1, 2, 3])"
   ]
  },
  {
   "cell_type": "markdown",
   "metadata": {},
   "source": [
    "ここでは, ベクター `[1, 2, 3]` の自乗ではなく, 全ての要素 `[1, 2, 3]` ごとに二乗した.\n",
    "\n",
    "これを行うために, `map` へ渡す関数は, 名前付き関数ではなく, 以下のように無名関数を渡すことができる."
   ]
  },
  {
   "cell_type": "code",
   "execution_count": null,
   "metadata": {},
   "outputs": [],
   "source": [
    "x -> x^3"
   ]
  },
  {
   "cell_type": "markdown",
   "metadata": {},
   "source": [
    "そして,"
   ]
  },
  {
   "cell_type": "code",
   "execution_count": null,
   "metadata": {},
   "outputs": [],
   "source": [
    "map(x -> x^3, [1, 2, 3])"
   ]
  },
  {
   "cell_type": "markdown",
   "metadata": {},
   "source": [
    "全ての要素 `[1, 2, 3]` の三乗が出力できた."
   ]
  },
  {
   "cell_type": "markdown",
   "metadata": {},
   "source": [
    "### ブロードキャスト構文\n",
    "\n",
    "`broadcast` は, `map` のような, また別の高階関数です. `broadcast` は `map` の一般化である.\n",
    "そのため, `map` でできることは全て実行可能であり, さらに多くのことができる.\n",
    "`broadcast` 構文のシンタックスは, `map` の呼び出しと同じである."
   ]
  },
  {
   "cell_type": "code",
   "execution_count": null,
   "metadata": {},
   "outputs": [],
   "source": [
    "broadcast(f, [1, 2, 3])"
   ]
  },
  {
   "cell_type": "markdown",
   "metadata": {},
   "source": [
    "再び, 二乗する関数 `f` を, `[1, 2, 3]` 全ての要素に適用する. - 今回は, `broadcast` 構文によって.\n",
    "\n",
    "`broadcast` を呼び出す, いくつかのシンタックスシュガーは, `broadcast` したい名前付き関数と, 適用したい入力引数を `.` でつなぐ. 例えば,\n",
    "\n",
    "```julia\n",
    "broadcast(f, [1, 2, 3])\n",
    "```\n",
    "\n",
    "これは下記と等価である.\n",
    "\n",
    "```julia\n",
    "f.([1, 2, 3])\n",
    "```"
   ]
  },
  {
   "cell_type": "code",
   "execution_count": null,
   "metadata": {},
   "outputs": [],
   "source": [
    "f.([1, 2, 3])"
   ]
  },
  {
   "cell_type": "markdown",
   "metadata": {},
   "source": [
    "下記の表記による実行結果との違いを改めて確認してほしい.\n",
    "\n",
    "```julia\n",
    "f([1, 2, 3])\n",
    "```\n",
    "\n",
    "ベクターの全ての要素を二乗することはできるが, ベクターを自乗することはできない."
   ]
  },
  {
   "cell_type": "markdown",
   "metadata": {},
   "source": [
    "<!--\n",
    "drive home (verb)\n",
    "    To push to or into a target.\n",
    "    To emphasize (a point) with tangible or powerful demonstration.\n",
    "    To push something into position completely by force - often with a hammer.\n",
    "source: Wiktionary https://en.wiktionary.org/wiki/drive_home\n",
    "-->\n",
    "\n",
    "\n",
    "この点を強調するために, 下記の構文の違いを確認する. 行列 `A` において:\n",
    "\n",
    "```julia\n",
    "f(A)\n",
    "```\n",
    "\n",
    "と\n",
    "\n",
    "```julia\n",
    "f.(A)\n",
    "```\n"
   ]
  },
  {
   "cell_type": "code",
   "execution_count": null,
   "metadata": {},
   "outputs": [],
   "source": [
    "A = [i + 3*j for j in 0:2, i in 1:3]"
   ]
  },
  {
   "cell_type": "code",
   "execution_count": null,
   "metadata": {},
   "outputs": [],
   "source": [
    "f(A)"
   ]
  },
  {
   "cell_type": "markdown",
   "metadata": {},
   "source": [
    "前述のように行列 `A` に対し下記の操作が行われた,\n",
    "\n",
    "```\n",
    "f(A) = A^2 = A * A\n",
    "``` \n",
    "\n",
    "一方で,"
   ]
  },
  {
   "cell_type": "code",
   "execution_count": null,
   "metadata": {},
   "outputs": [],
   "source": [
    "B = f.(A)"
   ]
  },
  {
   "cell_type": "markdown",
   "metadata": {
    "collapsed": true
   },
   "source": [
    "行列 `A` の全ての要素の二乗を含む.\n",
    "\n",
    "この `broadcat` 構文のドット構文は, より複雑な要素に渡った表記に, より自然な見た目で / 数学的表記に近い形で書くことができる.\n",
    "例えば,"
   ]
  },
  {
   "cell_type": "code",
   "execution_count": null,
   "metadata": {},
   "outputs": [],
   "source": [
    "A .+ 2 .* f.(A) ./ A"
   ]
  },
  {
   "cell_type": "markdown",
   "metadata": {},
   "source": [
    "下記の代わりに"
   ]
  },
  {
   "cell_type": "code",
   "execution_count": null,
   "metadata": {},
   "outputs": [],
   "source": [
    "broadcast(x -> x + 2 * f(x) / x, A)"
   ]
  },
  {
   "cell_type": "markdown",
   "metadata": {},
   "source": [
    "そしてこれは, `C` 言語と同じぐらい効率的に動作するコードにコンパイルされる."
   ]
  },
  {
   "cell_type": "markdown",
   "metadata": {
    "collapsed": true
   },
   "source": [
    "### 演習\n",
    "\n",
    "#### 6.1 \n",
    "入力に対し, `1` を加算する関数を書いてください."
   ]
  },
  {
   "cell_type": "code",
   "execution_count": null,
   "metadata": {},
   "outputs": [],
   "source": []
  },
  {
   "cell_type": "markdown",
   "metadata": {},
   "source": [
    "#### 6.2 \n",
    "`map` もしくは `broadcast` を用いて, 行列 `A` の全ての要素に, `1` を加算してください."
   ]
  },
  {
   "cell_type": "code",
   "execution_count": null,
   "metadata": {},
   "outputs": [],
   "source": []
  },
  {
   "cell_type": "markdown",
   "metadata": {
    "collapsed": true
   },
   "source": [
    "#### 6.3 \n",
    "`broadcast` ドット構文を用いて, 行列 `A` の全ての要素に, `1` を加算してください."
   ]
  },
  {
   "cell_type": "code",
   "execution_count": null,
   "metadata": {},
   "outputs": [],
   "source": []
  }
 ],
 "metadata": {
  "kernelspec": {
   "display_name": "Julia 0.6.2",
   "language": "julia",
   "name": "julia-0.6"
  },
  "language_info": {
   "file_extension": ".jl",
   "mimetype": "application/julia",
   "name": "julia",
   "version": "0.6.2"
  }
 },
 "nbformat": 4,
 "nbformat_minor": 2
}
