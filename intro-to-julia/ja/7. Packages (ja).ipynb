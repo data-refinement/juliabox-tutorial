{
 "cells": [
  {
   "cell_type": "markdown",
   "metadata": {
    "collapsed": true
   },
   "source": [
    "# パッケージ\n",
    "\n",
    "Julia は 約 1700 の登録パッケージがある. パッケージは Julia エコシステムの大部分を構成する.\n",
    "\n",
    "けれども, パッケージエコシステムにはまだ成長の余地がある. 特に, 他の言語への第一級関数呼び出しがあり, 優れた外部関数インタフェースを提供している.  `PyCall` や `Rcall` のように python や R から簡単に呼び出すことができる.\n",
    "\n",
    "これは, Julia エコシステムが充分に熟す時を待つ必要は無い事を意味する.  また, Julia に移行しても, 他の言語の好みの, package/library を諦める必要は無いということでもある.\n",
    "\n",
    "全ての利用可能なパッケージをみるためには, 下記のURLを確認されたい.\n",
    "\n",
    "https://pkg.julialang.org/\n",
    "もしくは\n",
    "https://juliaobserver.com/\n",
    "\n",
    "パッケージの使い方を, 紹介する."
   ]
  },
  {
   "cell_type": "markdown",
   "metadata": {},
   "source": [
    "インストールされた Julia において, 最初に, パッケージを利用するときは, 明示的に, 次の文を追加する:"
   ]
  },
  {
   "cell_type": "code",
   "execution_count": null,
   "metadata": {},
   "outputs": [],
   "source": [
    "#Pkg.add(\"Example\")"
   ]
  },
  {
   "cell_type": "markdown",
   "metadata": {},
   "source": [
    "毎回の Julia の起動の際 ( 例えば, REPL の新しいセッションや, 新しい notebook を開いた時) に, `using` キーワードを用いて, パッケージをロードする."
   ]
  },
  {
   "cell_type": "code",
   "execution_count": null,
   "metadata": {},
   "outputs": [],
   "source": [
    "using Example"
   ]
  },
  {
   "cell_type": "markdown",
   "metadata": {},
   "source": [
    "`Example.jl` のソースコードは下記にある,\n",
    "https://github.com/JuliaLang/Example.jl/blob/master/src/Example.jl\n",
    "下記の関数が宣言されていることが確認できる.\n",
    "\n",
    "```\n",
    "hello(who::String) = \"Hello, $who\"\n",
    "```\n",
    "\n",
    "`Example` をロードしたら, `hello` 関数を呼び出すことが可能になる."
   ]
  },
  {
   "cell_type": "code",
   "execution_count": null,
   "metadata": {},
   "outputs": [],
   "source": [
    "hello(\"it's me. I was wondering if after all these years you'd like to meet.\")"
   ]
  },
  {
   "cell_type": "markdown",
   "metadata": {},
   "source": [
    "`Colors` パッケージを用いてみよう."
   ]
  },
  {
   "cell_type": "code",
   "execution_count": null,
   "metadata": {},
   "outputs": [],
   "source": [
    "#Pkg.add(\"Colors\")"
   ]
  },
  {
   "cell_type": "code",
   "execution_count": null,
   "metadata": {},
   "outputs": [],
   "source": [
    "using Colors"
   ]
  },
  {
   "cell_type": "markdown",
   "metadata": {},
   "source": [
    "100 色のカラーパレットを生成しよう."
   ]
  },
  {
   "cell_type": "code",
   "execution_count": null,
   "metadata": {},
   "outputs": [],
   "source": [
    "palette = distinguishable_colors(100)"
   ]
  },
  {
   "cell_type": "markdown",
   "metadata": {},
   "source": [
    "`rand` コマンドを用いて, ランダムな色の格子縞の(checkered)行列を生成することができる."
   ]
  },
  {
   "cell_type": "code",
   "execution_count": null,
   "metadata": {},
   "outputs": [],
   "source": [
    "rand(palette, 3, 3)"
   ]
  },
  {
   "cell_type": "markdown",
   "metadata": {},
   "source": [
    "次のノートブックでは, 新しいパッケージを使用してデータセットをプロットする."
   ]
  },
  {
   "cell_type": "markdown",
   "metadata": {},
   "source": [
    "### 演習\n",
    "\n",
    "#### 7.1 \n",
    "`Primes.jl` パッケージをロードしてください.\n",
    "(ソースコード https://github.com/JuliaMath/Primes.jl)."
   ]
  },
  {
   "cell_type": "code",
   "execution_count": null,
   "metadata": {},
   "outputs": [],
   "source": []
  },
  {
   "cell_type": "markdown",
   "metadata": {},
   "source": [
    "#### 7.2 \n",
    "`primes` 関数を使用して, 1,000,000未満のすべての素数を取得できることを確認してください."
   ]
  },
  {
   "cell_type": "code",
   "execution_count": null,
   "metadata": {},
   "outputs": [],
   "source": []
  }
 ],
 "metadata": {
  "kernelspec": {
   "display_name": "Julia 0.6.2",
   "language": "julia",
   "name": "julia-0.6"
  },
  "language_info": {
   "file_extension": ".jl",
   "mimetype": "application/julia",
   "name": "julia",
   "version": "0.6.2"
  }
 },
 "nbformat": 4,
 "nbformat_minor": 2
}
